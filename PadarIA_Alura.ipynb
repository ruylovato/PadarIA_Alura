{
  "nbformat": 4,
  "nbformat_minor": 0,
  "metadata": {
    "colab": {
      "provenance": []
    },
    "kernelspec": {
      "name": "python3",
      "display_name": "Python 3"
    },
    "language_info": {
      "name": "python"
    }
  },
  "cells": [
    {
      "cell_type": "code",
      "execution_count": 1,
      "metadata": {
        "colab": {
          "base_uri": "https://localhost:8080/"
        },
        "id": "D980FPIvKLnR",
        "outputId": "d8983f14-d913-4de2-9220-6d59e4ba3110"
      },
      "outputs": [
        {
          "output_type": "stream",
          "name": "stdout",
          "text": [
            "Requirement already satisfied: google-genai in /usr/local/lib/python3.11/dist-packages (1.15.0)\n",
            "Requirement already satisfied: anyio<5.0.0,>=4.8.0 in /usr/local/lib/python3.11/dist-packages (from google-genai) (4.9.0)\n",
            "Requirement already satisfied: google-auth<3.0.0,>=2.14.1 in /usr/local/lib/python3.11/dist-packages (from google-genai) (2.38.0)\n",
            "Requirement already satisfied: httpx<1.0.0,>=0.28.1 in /usr/local/lib/python3.11/dist-packages (from google-genai) (0.28.1)\n",
            "Requirement already satisfied: pydantic<3.0.0,>=2.0.0 in /usr/local/lib/python3.11/dist-packages (from google-genai) (2.11.4)\n",
            "Requirement already satisfied: requests<3.0.0,>=2.28.1 in /usr/local/lib/python3.11/dist-packages (from google-genai) (2.32.3)\n",
            "Requirement already satisfied: websockets<15.1.0,>=13.0.0 in /usr/local/lib/python3.11/dist-packages (from google-genai) (15.0.1)\n",
            "Requirement already satisfied: typing-extensions<5.0.0,>=4.11.0 in /usr/local/lib/python3.11/dist-packages (from google-genai) (4.13.2)\n",
            "Requirement already satisfied: idna>=2.8 in /usr/local/lib/python3.11/dist-packages (from anyio<5.0.0,>=4.8.0->google-genai) (3.10)\n",
            "Requirement already satisfied: sniffio>=1.1 in /usr/local/lib/python3.11/dist-packages (from anyio<5.0.0,>=4.8.0->google-genai) (1.3.1)\n",
            "Requirement already satisfied: cachetools<6.0,>=2.0.0 in /usr/local/lib/python3.11/dist-packages (from google-auth<3.0.0,>=2.14.1->google-genai) (5.5.2)\n",
            "Requirement already satisfied: pyasn1-modules>=0.2.1 in /usr/local/lib/python3.11/dist-packages (from google-auth<3.0.0,>=2.14.1->google-genai) (0.4.2)\n",
            "Requirement already satisfied: rsa<5,>=3.1.4 in /usr/local/lib/python3.11/dist-packages (from google-auth<3.0.0,>=2.14.1->google-genai) (4.9.1)\n",
            "Requirement already satisfied: certifi in /usr/local/lib/python3.11/dist-packages (from httpx<1.0.0,>=0.28.1->google-genai) (2025.4.26)\n",
            "Requirement already satisfied: httpcore==1.* in /usr/local/lib/python3.11/dist-packages (from httpx<1.0.0,>=0.28.1->google-genai) (1.0.9)\n",
            "Requirement already satisfied: h11>=0.16 in /usr/local/lib/python3.11/dist-packages (from httpcore==1.*->httpx<1.0.0,>=0.28.1->google-genai) (0.16.0)\n",
            "Requirement already satisfied: annotated-types>=0.6.0 in /usr/local/lib/python3.11/dist-packages (from pydantic<3.0.0,>=2.0.0->google-genai) (0.7.0)\n",
            "Requirement already satisfied: pydantic-core==2.33.2 in /usr/local/lib/python3.11/dist-packages (from pydantic<3.0.0,>=2.0.0->google-genai) (2.33.2)\n",
            "Requirement already satisfied: typing-inspection>=0.4.0 in /usr/local/lib/python3.11/dist-packages (from pydantic<3.0.0,>=2.0.0->google-genai) (0.4.0)\n",
            "Requirement already satisfied: charset-normalizer<4,>=2 in /usr/local/lib/python3.11/dist-packages (from requests<3.0.0,>=2.28.1->google-genai) (3.4.2)\n",
            "Requirement already satisfied: urllib3<3,>=1.21.1 in /usr/local/lib/python3.11/dist-packages (from requests<3.0.0,>=2.28.1->google-genai) (2.4.0)\n",
            "Requirement already satisfied: pyasn1<0.7.0,>=0.6.1 in /usr/local/lib/python3.11/dist-packages (from pyasn1-modules>=0.2.1->google-auth<3.0.0,>=2.14.1->google-genai) (0.6.1)\n"
          ]
        }
      ],
      "source": [
        "!pip install google-genai"
      ]
    },
    {
      "cell_type": "code",
      "source": [
        "import os\n",
        "from google.colab import userdata\n",
        "os.environ['GOOGLE_API_KEY'] = userdata.get('GOOGLE_API_KEY')"
      ],
      "metadata": {
        "id": "7FpCXKZeKbLp"
      },
      "execution_count": 2,
      "outputs": []
    },
    {
      "cell_type": "code",
      "source": [
        "import google.generativeai as genai"
      ],
      "metadata": {
        "id": "DwmF_ak5Kb5-"
      },
      "execution_count": 3,
      "outputs": []
    },
    {
      "cell_type": "code",
      "source": [
        "try:\n",
        "    from google.colab import userdata\n",
        "    GOOGLE_API_KEY = userdata.get('GOOGLE_API_KEY')\n",
        "    if not GOOGLE_API_KEY:\n",
        "        raise KeyError(\"Chave não encontrada nos Secrets do Colab.\")\n",
        "    genai.configure(api_key=GOOGLE_API_KEY)\n",
        "    print(\"Chave da API do Google configurada com sucesso a partir dos Secrets do Colab.\")\n",
        "except (ImportError, KeyError) as e:\n",
        "    print(f\"Secrets do Colab não disponíveis ou chave não encontrada ({e}). Tentando input manual.\")\n",
        "    # Se não estiver usando Secrets, ou como fallback, pode pedir via input (menos seguro):\n",
        "    GOOGLE_API_KEY = input(\"Por favor, insira sua Google API Key: \")\n",
        "    if GOOGLE_API_KEY:\n",
        "        genai.configure(api_key=GOOGLE_API_KEY)\n",
        "        print(\"Chave da API do Google configurada manualmente.\")\n",
        "    else:\n",
        "        print(\"Nenhuma chave de API fornecida. A chamada à API falhará.\")\n",
        "        # Você pode querer encerrar o script aqui ou lidar com a ausência da chave"
      ],
      "metadata": {
        "colab": {
          "base_uri": "https://localhost:8080/"
        },
        "id": "NaqpMvwtN4II",
        "outputId": "729a84c8-1d4e-47c8-dd51-eb4e54d55cc9"
      },
      "execution_count": 4,
      "outputs": [
        {
          "output_type": "stream",
          "name": "stdout",
          "text": [
            "Chave da API do Google configurada com sucesso a partir dos Secrets do Colab.\n"
          ]
        }
      ]
    },
    {
      "cell_type": "code",
      "source": [
        "def obter_sugestao_gemini(textura, sabor, tempo, pessoas):\n",
        "    \"\"\"\n",
        "    Coleta as informações, monta o prompt e chama a API do Gemini.\n",
        "    \"\"\"\n",
        "    if not GOOGLE_API_KEY: # Verifica se a chave foi configurada\n",
        "        return \"Erro: A chave da API do Google não foi configurada. Não é possível buscar a receita.\"\n",
        "\n",
        "    # Monta o prompt para a API do Gemini\n",
        "    prompt = (\n",
        "        f\"Crie uma receita de pão {sabor} e {textura} que se encaixe na seguinte descrição de tempo: '{tempo}'. \"\n",
        "        f\"A receita deve ser para {pessoas} pessoa(s). \"\n",
        "        \"Por favor, detalhe os ingredientes e o modo de preparo de forma clara e completa. \"\n",
        "        \"Formate a resposta de maneira organizada, com seções para 'Ingredientes' e 'Modo de Preparo'. \"\n",
        "        \"Se for um pão rápido (30min-1h), sugira algo que não precise de longas fermentações.\"\n",
        "    )\n",
        "\n",
        "    print(\"\\n--- PROMPT ENVIADO PARA A API DO GEMINI ---\")\n",
        "    print(prompt)\n",
        "    print(\"-------------------------------------------\\n\")\n",
        "\n",
        "    try:\n",
        "        # Inicializa o modelo generativo (ex: 'gemini-1.0-pro' ou 'gemini-1.5-flash')\n",
        "        # Verifique os modelos disponíveis e mais adequados na documentação.\n",
        "        model = genai.GenerativeModel('gemini-2.0-flash')\n",
        "\n",
        "        # Gera o conteúdo\n",
        "        response = model.generate_content(prompt)\n",
        "\n",
        "        # Retorna o texto da resposta\n",
        "        # A API pode retornar blocos de texto, então é bom verificar e concatenar se necessário.\n",
        "        # Para respostas simples de texto, response.text geralmente é suficiente.\n",
        "        # Para respostas mais complexas ou com streaming, você pode precisar iterar sobre response.parts\n",
        "        if response.parts:\n",
        "            receita_gerada = \"\".join(part.text for part in response.parts)\n",
        "        else:\n",
        "            # Fallback para response.text, embora com a API atual, parts seja mais comum\n",
        "            receita_gerada = response.text if hasattr(response, 'text') else \"A API não retornou um texto na resposta esperada.\"\n",
        "\n",
        "    except Exception as e:\n",
        "        receita_gerada = f\"Erro ao contatar a API do Gemini: {e}\"\n",
        "        print(f\"Ocorreu um erro: {e}\")\n",
        "        # Informações adicionais de depuração, se disponíveis no erro:\n",
        "        if hasattr(e, 'response') and hasattr(e.response, 'prompt_feedback'):\n",
        "            print(f\"Feedback do prompt: {e.response.prompt_feedback}\")\n",
        "        if hasattr(e, 'response') and hasattr(e.response, 'candidates'):\n",
        "            for candidate in e.response.candidates:\n",
        "                print(f\"Candidate: {candidate.finish_reason}, {candidate.safety_ratings}\")\n",
        "\n",
        "\n",
        "    return receita_gerada"
      ],
      "metadata": {
        "id": "xAYbPWwSLi3o"
      },
      "execution_count": 5,
      "outputs": []
    },
    {
      "cell_type": "code",
      "source": [
        "print(\"--- PadarIA - Configuração da Receita ---\")\n",
        "textura_escolhida = input(\"Você quer que seu pão seja macio ou crocante? (macio / crocante): \").lower()\n",
        "sabor_escolhido = input(\"Você quer um pão doce ou salgado? (doce / salgado): \").lower()\n",
        "print(\"\\nQuanto tempo você tem?\")\n",
        "print(\"1: Quero tudo pronto em 30min\")\n",
        "print(\"2: Tenho até 1h\")\n",
        "print(\"3: Tenho algumas horas\")\n",
        "print(\"4: Pode ficar pronto no dia seguinte\")\n",
        "tempo_opcao = input(\"Escolha uma opção de tempo (1-4): \")\n",
        "tempos_map = {\n",
        "\"1\": \"Quero tudo pronto em 30min\",\n",
        "\"2\": \"Tenho até 1h\",\n",
        "\"3\": \"Tenho algumas horas\",\n",
        "\"4\": \"Pode ficar pronto no dia seguinte\"\n",
        "}\n",
        "tempo_disponivel = tempos_map.get(tempo_opcao, \"Tenho algumas horas\") # Padrão se inválido\n",
        "numero_pessoas = input(\"Para quantas pessoas é a receita?: \")\n",
        "\n",
        "# Validar entrada de pessoas (simples)\n",
        "if not numero_pessoas.isdigit() or int(numero_pessoas) <= 0:\n",
        "    print(\"Número de pessoas inválido. Usando '1' como padrão.\")\n",
        "    numero_pessoas = \"1\"\n",
        "\n",
        "# Passo 5: Chamar a função e imprimir o resultado\n",
        "if GOOGLE_API_KEY: # Só tenta obter a receita se a chave estiver configurada\n",
        "    print(f\"\\nBuscando receita para pão {sabor_escolhido}, {textura_escolhida}, para {numero_pessoas} pessoa(s), com tempo: {tempo_disponivel}...\")\n",
        "    receita_sugerida = obter_sugestao_gemini(textura_escolhida, sabor_escolhido, tempo_disponivel, numero_pessoas)\n",
        "\n",
        "    print(\"\\n--- RECEITA SUGERIDA PELA API DO GEMINI ---\")\n",
        "    print(receita_sugerida)\n",
        "    print(\"---------------------------------------------\")\n",
        "else:\n",
        "    print(\"\\nNão foi possível buscar a receita pois a chave da API não foi configurada.\")"
      ],
      "metadata": {
        "colab": {
          "base_uri": "https://localhost:8080/",
          "height": 1000
        },
        "id": "tM06XjCeMI8j",
        "outputId": "36c64578-3321-4d8b-ce72-6e821004f20c"
      },
      "execution_count": 6,
      "outputs": [
        {
          "output_type": "stream",
          "name": "stdout",
          "text": [
            "--- PadarIA - Configuração da Receita ---\n",
            "Você quer que seu pão seja macio ou crocante? (macio / crocante): crocante\n",
            "Você quer um pão doce ou salgado? (doce / salgado): doce\n",
            "\n",
            "Quanto tempo você tem?\n",
            "1: Quero tudo pronto em 30min\n",
            "2: Tenho até 1h\n",
            "3: Tenho algumas horas\n",
            "4: Pode ficar pronto no dia seguinte\n",
            "Escolha uma opção de tempo (1-4): 1\n",
            "Para quantas pessoas é a receita?: 1\n",
            "\n",
            "Buscando receita para pão doce, crocante, para 1 pessoa(s), com tempo: Quero tudo pronto em 30min...\n",
            "\n",
            "--- PROMPT ENVIADO PARA A API DO GEMINI ---\n",
            "Crie uma receita de pão doce e crocante que se encaixe na seguinte descrição de tempo: 'Quero tudo pronto em 30min'. A receita deve ser para 1 pessoa(s). Por favor, detalhe os ingredientes e o modo de preparo de forma clara e completa. Formate a resposta de maneira organizada, com seções para 'Ingredientes' e 'Modo de Preparo'. Se for um pão rápido (30min-1h), sugira algo que não precise de longas fermentações.\n",
            "-------------------------------------------\n",
            "\n",
            "\n",
            "--- RECEITA SUGERIDA PELA API DO GEMINI ---\n",
            "## Pão Doce Crocante Express (Para 1 Pessoa) - Pronto em 30 Minutos!\n",
            "\n",
            "Esta receita é perfeita para quando você quer um pãozinho doce e crocante rapidinho, sem precisar esperar horas! É um pão rápido feito no microondas, perfeito para uma porção individual.\n",
            "\n",
            "**Ingredientes:**\n",
            "\n",
            "*   4 colheres de sopa de farinha de trigo (aproximadamente 30g)\n",
            "*   1 colher de sopa de açúcar\n",
            "*   1/4 colher de chá de fermento químico (aquele para bolo, não o biológico)\n",
            "*   Uma pitada de sal\n",
            "*   3 colheres de sopa de leite\n",
            "*   1 colher de sopa de óleo vegetal (girassol, canola, etc.)\n",
            "*   **Para a cobertura crocante:**\n",
            "    *   1 colher de chá de manteiga derretida\n",
            "    *   1 colher de chá de açúcar\n",
            "    *   1/4 colher de chá de canela em pó (opcional)\n",
            "\n",
            "**Modo de Preparo:**\n",
            "\n",
            "1.  **Preparo da Massa:** Em uma caneca grande (que possa ir ao microondas - de preferência, com capacidade para pelo menos 300ml para evitar que a massa derrame), misture a farinha, o açúcar, o fermento e o sal. Use um garfo para desfazer qualquer bolinha.\n",
            "\n",
            "2.  **Adicionando os Líquidos:** Acrescente o leite e o óleo à caneca. Misture bem com o garfo até obter uma massa homogênea. Pode parecer um pouco líquida, mas é assim mesmo.\n",
            "\n",
            "3.  **Cozinhe no Microondas:** Leve a caneca ao microondas e cozinhe em potência alta por 1 minuto e 15 segundos a 1 minuto e 30 segundos. O tempo pode variar dependendo da potência do seu microondas. O pão estará pronto quando estiver crescido e firme ao toque. Se ainda estiver muito úmido, coloque mais 15 segundos. *Atenção: Observe para não queimar!*\n",
            "\n",
            "4.  **Preparo da Cobertura Crocante:** Enquanto o pão esfria um pouco, misture em uma tigelinha a manteiga derretida, o açúcar e a canela (se estiver usando).\n",
            "\n",
            "5.  **Finalização e Crocância:** Com cuidado, retire o pão da caneca (se estiver grudado, passe uma faca pelas bordas). Coloque-o em um prato. Pincele a cobertura crocante sobre toda a superfície do pão.\n",
            "\n",
            "6.  **Gratinando (Opcional para mais Crocância):** Se quiser uma crocância extra, coloque o pão sob a chama baixa de um maçarico culinário por alguns segundos, até dourar levemente (cuidado para não queimar!). Se não tiver um maçarico, pode usar a boca do fogão com bastante cuidado e atenção. *Outra opção é levar ao forno preaquecido a 180°C por 5 minutos.*\n",
            "\n",
            "7.  **Sirva Imediatamente:** Saboreie seu pão doce e crocante ainda quentinho!\n",
            "\n",
            "**Dicas:**\n",
            "\n",
            "*   Você pode adicionar gotas de chocolate à massa antes de levar ao microondas.\n",
            "*   Experimente usar diferentes especiarias na cobertura, como noz-moscada ou cardamomo.\n",
            "*   Para uma versão mais saudável, substitua metade da farinha branca por farinha integral.\n",
            "*   A potência e o tempo de cozimento no microondas podem variar, então fique de olho e ajuste conforme necessário.\n",
            "*   Se não tiver canela, pode usar raspas de limão ou laranja na cobertura.\n",
            "\n",
            "Bom apetite!\n",
            "\n",
            "---------------------------------------------\n"
          ]
        }
      ]
    }
  ]
}